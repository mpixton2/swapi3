{
 "cells": [
  {
   "cell_type": "code",
   "execution_count": 24,
   "metadata": {},
   "outputs": [],
   "source": [
    "import pandas as pd\n",
    "import matplotlib as plt\n",
    "import seaborn as sns\n",
    "from sklearn.tree import DecisionTreeClassifier \n",
    "from sklearn.model_selection import cross_val_score\n",
    "from sklearn.model_selection import train_test_split\n",
    "from sklearn.metrics import mean_squared_error, r2_score"
   ]
  },
  {
   "cell_type": "code",
   "execution_count": 5,
   "metadata": {},
   "outputs": [],
   "source": [
    "df = pd.read_csv(\"troop_movements.csv\")"
   ]
  },
  {
   "cell_type": "code",
   "execution_count": 6,
   "metadata": {},
   "outputs": [
    {
     "data": {
      "text/html": [
       "<div>\n",
       "<style scoped>\n",
       "    .dataframe tbody tr th:only-of-type {\n",
       "        vertical-align: middle;\n",
       "    }\n",
       "\n",
       "    .dataframe tbody tr th {\n",
       "        vertical-align: top;\n",
       "    }\n",
       "\n",
       "    .dataframe thead th {\n",
       "        text-align: right;\n",
       "    }\n",
       "</style>\n",
       "<table border=\"1\" class=\"dataframe\">\n",
       "  <thead>\n",
       "    <tr style=\"text-align: right;\">\n",
       "      <th></th>\n",
       "      <th>timestamp</th>\n",
       "      <th>unit_id</th>\n",
       "      <th>unit_type</th>\n",
       "      <th>empire_or_resistance</th>\n",
       "      <th>location_x</th>\n",
       "      <th>location_y</th>\n",
       "      <th>destination_x</th>\n",
       "      <th>destination_y</th>\n",
       "      <th>homeworld</th>\n",
       "    </tr>\n",
       "  </thead>\n",
       "  <tbody>\n",
       "    <tr>\n",
       "      <th>0</th>\n",
       "      <td>2024-07-10 15:32:03</td>\n",
       "      <td>1</td>\n",
       "      <td>tie_fighter</td>\n",
       "      <td>empire</td>\n",
       "      <td>6</td>\n",
       "      <td>10</td>\n",
       "      <td>9</td>\n",
       "      <td>7</td>\n",
       "      <td>Aleen Minor</td>\n",
       "    </tr>\n",
       "    <tr>\n",
       "      <th>1</th>\n",
       "      <td>2024-07-10 15:32:02</td>\n",
       "      <td>2</td>\n",
       "      <td>unknown</td>\n",
       "      <td>empire</td>\n",
       "      <td>7</td>\n",
       "      <td>8</td>\n",
       "      <td>8</td>\n",
       "      <td>8</td>\n",
       "      <td>Mon Cala</td>\n",
       "    </tr>\n",
       "    <tr>\n",
       "      <th>2</th>\n",
       "      <td>2024-07-10 15:32:01</td>\n",
       "      <td>3</td>\n",
       "      <td>x-wing</td>\n",
       "      <td>resistance</td>\n",
       "      <td>7</td>\n",
       "      <td>3</td>\n",
       "      <td>8</td>\n",
       "      <td>3</td>\n",
       "      <td>Tatooine</td>\n",
       "    </tr>\n",
       "    <tr>\n",
       "      <th>3</th>\n",
       "      <td>2024-07-10 15:32:00</td>\n",
       "      <td>4</td>\n",
       "      <td>tie_silencer</td>\n",
       "      <td>empire</td>\n",
       "      <td>6</td>\n",
       "      <td>8</td>\n",
       "      <td>2</td>\n",
       "      <td>7</td>\n",
       "      <td>Aleen Minor</td>\n",
       "    </tr>\n",
       "    <tr>\n",
       "      <th>4</th>\n",
       "      <td>2024-07-10 15:31:59</td>\n",
       "      <td>5</td>\n",
       "      <td>unknown</td>\n",
       "      <td>resistance</td>\n",
       "      <td>5</td>\n",
       "      <td>4</td>\n",
       "      <td>4</td>\n",
       "      <td>7</td>\n",
       "      <td>Shili</td>\n",
       "    </tr>\n",
       "  </tbody>\n",
       "</table>\n",
       "</div>"
      ],
      "text/plain": [
       "             timestamp  unit_id     unit_type empire_or_resistance  \\\n",
       "0  2024-07-10 15:32:03        1   tie_fighter               empire   \n",
       "1  2024-07-10 15:32:02        2       unknown               empire   \n",
       "2  2024-07-10 15:32:01        3        x-wing           resistance   \n",
       "3  2024-07-10 15:32:00        4  tie_silencer               empire   \n",
       "4  2024-07-10 15:31:59        5       unknown           resistance   \n",
       "\n",
       "   location_x  location_y  destination_x  destination_y    homeworld  \n",
       "0           6          10              9              7  Aleen Minor  \n",
       "1           7           8              8              8     Mon Cala  \n",
       "2           7           3              8              3     Tatooine  \n",
       "3           6           8              2              7  Aleen Minor  \n",
       "4           5           4              4              7        Shili  "
      ]
     },
     "execution_count": 6,
     "metadata": {},
     "output_type": "execute_result"
    }
   ],
   "source": [
    "df.head()"
   ]
  },
  {
   "cell_type": "code",
   "execution_count": 9,
   "metadata": {},
   "outputs": [
    {
     "name": "stdout",
     "output_type": "stream",
     "text": [
      "timestamp\n",
      "2024-07-10 15:32:03    1\n",
      "2024-07-10 15:20:52    1\n",
      "2024-07-10 15:21:05    1\n",
      "2024-07-10 15:21:04    1\n",
      "2024-07-10 15:21:03    1\n",
      "                      ..\n",
      "2024-07-10 15:26:25    1\n",
      "2024-07-10 15:26:24    1\n",
      "2024-07-10 15:26:23    1\n",
      "2024-07-10 15:26:22    1\n",
      "2024-07-10 15:15:24    1\n",
      "Name: count, Length: 1000, dtype: int64\n",
      "unit_id\n",
      "1       1\n",
      "672     1\n",
      "659     1\n",
      "660     1\n",
      "661     1\n",
      "       ..\n",
      "339     1\n",
      "340     1\n",
      "341     1\n",
      "342     1\n",
      "1000    1\n",
      "Name: count, Length: 1000, dtype: int64\n",
      "unit_type\n",
      "tie_silencer          131\n",
      "tie_fighter           129\n",
      "x-wing                129\n",
      "resistance_soldier    127\n",
      "at-at                 126\n",
      "stormtrooper          123\n",
      "at-st                 120\n",
      "unknown               115\n",
      "Name: count, dtype: int64\n",
      "empire_or_resistance\n",
      "empire        508\n",
      "resistance    492\n",
      "Name: count, dtype: int64\n",
      "location_x\n",
      "2     113\n",
      "3     110\n",
      "8     106\n",
      "7     103\n",
      "10    102\n",
      "9     102\n",
      "5     100\n",
      "6      93\n",
      "1      90\n",
      "4      81\n",
      "Name: count, dtype: int64\n",
      "location_y\n",
      "8     117\n",
      "1     117\n",
      "6     110\n",
      "10    102\n",
      "5      95\n",
      "9      95\n",
      "3      94\n",
      "7      94\n",
      "4      91\n",
      "2      85\n",
      "Name: count, dtype: int64\n",
      "destination_x\n",
      "10    120\n",
      "9     107\n",
      "8     104\n",
      "7     103\n",
      "4     101\n",
      "1     100\n",
      "6      99\n",
      "3      90\n",
      "5      89\n",
      "2      87\n",
      "Name: count, dtype: int64\n",
      "destination_y\n",
      "3     114\n",
      "1     106\n",
      "2     106\n",
      "5     105\n",
      "4     104\n",
      "7      99\n",
      "9      98\n",
      "8      96\n",
      "10     93\n",
      "6      79\n",
      "Name: count, dtype: int64\n",
      "homeworld\n",
      "Corellia        35\n",
      "Toydaria        33\n",
      "Trandosha       32\n",
      "Mirial          31\n",
      "Ryloth          30\n",
      "Kashyyyk        30\n",
      "Quermia         30\n",
      "Aleen Minor     28\n",
      "Ojom            28\n",
      "Skako           28\n",
      "Shili           28\n",
      "Kalee           27\n",
      "Glee Anselm     27\n",
      "Mon Cala        27\n",
      "Troiken         25\n",
      "Alderaan        25\n",
      "Dorin           25\n",
      "Iktotch         25\n",
      "Serenno         24\n",
      "Zolan           23\n",
      "Stewjon         23\n",
      "Champala        23\n",
      "Dagobah         23\n",
      "Umbara          23\n",
      "Tund            23\n",
      "Concord Dawn    22\n",
      "Naboo           22\n",
      "Haruun Kal      22\n",
      "Bestine IV      22\n",
      "Chandrila       21\n",
      "Malastare       21\n",
      "Rodia           21\n",
      "Iridonia        21\n",
      "Vulpter         20\n",
      "Tholoth         20\n",
      "Muunilinst      20\n",
      "Socorro         18\n",
      "Tatooine        17\n",
      "Cerea           16\n",
      "Dathomir        15\n",
      "Eriadu          14\n",
      "Sullust         12\n",
      "Name: count, dtype: int64\n"
     ]
    }
   ],
   "source": [
    "for columnname in df.columns:\n",
    "    print(df[columnname].value_counts())"
   ]
  },
  {
   "cell_type": "code",
   "execution_count": null,
   "metadata": {},
   "outputs": [],
   "source": [
    "def isRes(x):\n",
    "    if x = \"resistance\":\n",
    "        return True\n",
    "    else:\n",
    "        return False\n",
    "\n",
    "df[\"is_resistance\"] = isRes(df[\"empire_or_resistance\"])"
   ]
  },
  {
   "cell_type": "code",
   "execution_count": 11,
   "metadata": {},
   "outputs": [],
   "source": [
    "df[\"is_resistance\"] = df[\"empire_or_resistance\"] == \"resistance\""
   ]
  },
  {
   "cell_type": "code",
   "execution_count": 12,
   "metadata": {},
   "outputs": [
    {
     "data": {
      "text/html": [
       "<div>\n",
       "<style scoped>\n",
       "    .dataframe tbody tr th:only-of-type {\n",
       "        vertical-align: middle;\n",
       "    }\n",
       "\n",
       "    .dataframe tbody tr th {\n",
       "        vertical-align: top;\n",
       "    }\n",
       "\n",
       "    .dataframe thead th {\n",
       "        text-align: right;\n",
       "    }\n",
       "</style>\n",
       "<table border=\"1\" class=\"dataframe\">\n",
       "  <thead>\n",
       "    <tr style=\"text-align: right;\">\n",
       "      <th></th>\n",
       "      <th>timestamp</th>\n",
       "      <th>unit_id</th>\n",
       "      <th>unit_type</th>\n",
       "      <th>empire_or_resistance</th>\n",
       "      <th>location_x</th>\n",
       "      <th>location_y</th>\n",
       "      <th>destination_x</th>\n",
       "      <th>destination_y</th>\n",
       "      <th>homeworld</th>\n",
       "      <th>is_resistance</th>\n",
       "    </tr>\n",
       "  </thead>\n",
       "  <tbody>\n",
       "    <tr>\n",
       "      <th>0</th>\n",
       "      <td>2024-07-10 15:32:03</td>\n",
       "      <td>1</td>\n",
       "      <td>tie_fighter</td>\n",
       "      <td>empire</td>\n",
       "      <td>6</td>\n",
       "      <td>10</td>\n",
       "      <td>9</td>\n",
       "      <td>7</td>\n",
       "      <td>Aleen Minor</td>\n",
       "      <td>False</td>\n",
       "    </tr>\n",
       "    <tr>\n",
       "      <th>1</th>\n",
       "      <td>2024-07-10 15:32:02</td>\n",
       "      <td>2</td>\n",
       "      <td>unknown</td>\n",
       "      <td>empire</td>\n",
       "      <td>7</td>\n",
       "      <td>8</td>\n",
       "      <td>8</td>\n",
       "      <td>8</td>\n",
       "      <td>Mon Cala</td>\n",
       "      <td>False</td>\n",
       "    </tr>\n",
       "    <tr>\n",
       "      <th>2</th>\n",
       "      <td>2024-07-10 15:32:01</td>\n",
       "      <td>3</td>\n",
       "      <td>x-wing</td>\n",
       "      <td>resistance</td>\n",
       "      <td>7</td>\n",
       "      <td>3</td>\n",
       "      <td>8</td>\n",
       "      <td>3</td>\n",
       "      <td>Tatooine</td>\n",
       "      <td>True</td>\n",
       "    </tr>\n",
       "    <tr>\n",
       "      <th>3</th>\n",
       "      <td>2024-07-10 15:32:00</td>\n",
       "      <td>4</td>\n",
       "      <td>tie_silencer</td>\n",
       "      <td>empire</td>\n",
       "      <td>6</td>\n",
       "      <td>8</td>\n",
       "      <td>2</td>\n",
       "      <td>7</td>\n",
       "      <td>Aleen Minor</td>\n",
       "      <td>False</td>\n",
       "    </tr>\n",
       "    <tr>\n",
       "      <th>4</th>\n",
       "      <td>2024-07-10 15:31:59</td>\n",
       "      <td>5</td>\n",
       "      <td>unknown</td>\n",
       "      <td>resistance</td>\n",
       "      <td>5</td>\n",
       "      <td>4</td>\n",
       "      <td>4</td>\n",
       "      <td>7</td>\n",
       "      <td>Shili</td>\n",
       "      <td>True</td>\n",
       "    </tr>\n",
       "  </tbody>\n",
       "</table>\n",
       "</div>"
      ],
      "text/plain": [
       "             timestamp  unit_id     unit_type empire_or_resistance  \\\n",
       "0  2024-07-10 15:32:03        1   tie_fighter               empire   \n",
       "1  2024-07-10 15:32:02        2       unknown               empire   \n",
       "2  2024-07-10 15:32:01        3        x-wing           resistance   \n",
       "3  2024-07-10 15:32:00        4  tie_silencer               empire   \n",
       "4  2024-07-10 15:31:59        5       unknown           resistance   \n",
       "\n",
       "   location_x  location_y  destination_x  destination_y    homeworld  \\\n",
       "0           6          10              9              7  Aleen Minor   \n",
       "1           7           8              8              8     Mon Cala   \n",
       "2           7           3              8              3     Tatooine   \n",
       "3           6           8              2              7  Aleen Minor   \n",
       "4           5           4              4              7        Shili   \n",
       "\n",
       "   is_resistance  \n",
       "0          False  \n",
       "1          False  \n",
       "2           True  \n",
       "3          False  \n",
       "4           True  "
      ]
     },
     "execution_count": 12,
     "metadata": {},
     "output_type": "execute_result"
    }
   ],
   "source": [
    "df.head()"
   ]
  },
  {
   "cell_type": "code",
   "execution_count": 22,
   "metadata": {},
   "outputs": [
    {
     "data": {
      "text/plain": [
       "Text(0.5, 1.0, 'Empire and Resistance Dist')"
      ]
     },
     "execution_count": 22,
     "metadata": {},
     "output_type": "execute_result"
    },
    {
     "data": {
      "image/png": "[encoded data removed]",
      "text/plain": [
       "<Figure size 500x500 with 1 Axes>"
      ]
     },
     "metadata": {},
     "output_type": "display_data"
    }
   ],
   "source": [
    "sns.displot(x=\"empire_or_resistance\", data=df)\n",
    "# sns.set_theme(\"ggplot\")\n",
    "plt.pyplot.title(\"Empire and Resistance Dist\")"
   ]
  },
  {
   "cell_type": "code",
   "execution_count": 29,
   "metadata": {},
   "outputs": [
    {
     "data": {
      "text/plain": [
       "timestamp               object\n",
       "unit_id                  int64\n",
       "unit_type               object\n",
       "empire_or_resistance    object\n",
       "location_x               int64\n",
       "location_y               int64\n",
       "destination_x            int64\n",
       "destination_y            int64\n",
       "homeworld               object\n",
       "is_resistance             bool\n",
       "dtype: object"
      ]
     },
     "execution_count": 29,
     "metadata": {},
     "output_type": "execute_result"
    }
   ],
   "source": [
    "df.dtypes"
   ]
  },
  {
   "cell_type": "code",
   "execution_count": 34,
   "metadata": {},
   "outputs": [],
   "source": [
    "df2 =pd.get_dummies(df,columns = [\"homeworld\",\"unit_type\"])"
   ]
  },
  {
   "cell_type": "code",
   "execution_count": 35,
   "metadata": {},
   "outputs": [
    {
     "data": {
      "text/plain": [
       "Index(['timestamp', 'unit_id', 'empire_or_resistance', 'location_x',\n",
       "       'location_y', 'destination_x', 'destination_y', 'is_resistance',\n",
       "       'homeworld_Alderaan', 'homeworld_Aleen Minor', 'homeworld_Bestine IV',\n",
       "       'homeworld_Cerea', 'homeworld_Champala', 'homeworld_Chandrila',\n",
       "       'homeworld_Concord Dawn', 'homeworld_Corellia', 'homeworld_Dagobah',\n",
       "       'homeworld_Dathomir', 'homeworld_Dorin', 'homeworld_Eriadu',\n",
       "       'homeworld_Glee Anselm', 'homeworld_Haruun Kal', 'homeworld_Iktotch',\n",
       "       'homeworld_Iridonia', 'homeworld_Kalee', 'homeworld_Kashyyyk',\n",
       "       'homeworld_Malastare', 'homeworld_Mirial', 'homeworld_Mon Cala',\n",
       "       'homeworld_Muunilinst', 'homeworld_Naboo', 'homeworld_Ojom',\n",
       "       'homeworld_Quermia', 'homeworld_Rodia', 'homeworld_Ryloth',\n",
       "       'homeworld_Serenno', 'homeworld_Shili', 'homeworld_Skako',\n",
       "       'homeworld_Socorro', 'homeworld_Stewjon', 'homeworld_Sullust',\n",
       "       'homeworld_Tatooine', 'homeworld_Tholoth', 'homeworld_Toydaria',\n",
       "       'homeworld_Trandosha', 'homeworld_Troiken', 'homeworld_Tund',\n",
       "       'homeworld_Umbara', 'homeworld_Vulpter', 'homeworld_Zolan',\n",
       "       'unit_type_at-at', 'unit_type_at-st', 'unit_type_resistance_soldier',\n",
       "       'unit_type_stormtrooper', 'unit_type_tie_fighter',\n",
       "       'unit_type_tie_silencer', 'unit_type_unknown', 'unit_type_x-wing'],\n",
       "      dtype='object')"
      ]
     },
     "execution_count": 35,
     "metadata": {},
     "output_type": "execute_result"
    }
   ],
   "source": [
    "df2.columns"
   ]
  },
  {
   "cell_type": "code",
   "execution_count": 36,
   "metadata": {},
   "outputs": [],
   "source": [
    "feature_cols = ['homeworld_Alderaan', 'homeworld_Aleen Minor', 'homeworld_Bestine IV',\n",
    "       'homeworld_Cerea', 'homeworld_Champala', 'homeworld_Chandrila',\n",
    "       'homeworld_Concord Dawn', 'homeworld_Corellia', 'homeworld_Dagobah',\n",
    "       'homeworld_Dathomir', 'homeworld_Dorin', 'homeworld_Eriadu',\n",
    "       'homeworld_Glee Anselm', 'homeworld_Haruun Kal', 'homeworld_Iktotch',\n",
    "       'homeworld_Iridonia', 'homeworld_Kalee', 'homeworld_Kashyyyk',\n",
    "       'homeworld_Malastare', 'homeworld_Mirial', 'homeworld_Mon Cala',\n",
    "       'homeworld_Muunilinst', 'homeworld_Naboo', 'homeworld_Ojom',\n",
    "       'homeworld_Quermia', 'homeworld_Rodia', 'homeworld_Ryloth',\n",
    "       'homeworld_Serenno', 'homeworld_Shili', 'homeworld_Skako',\n",
    "       'homeworld_Socorro', 'homeworld_Stewjon', 'homeworld_Sullust',\n",
    "       'homeworld_Tatooine', 'homeworld_Tholoth', 'homeworld_Toydaria',\n",
    "       'homeworld_Trandosha', 'homeworld_Troiken', 'homeworld_Tund',\n",
    "       'homeworld_Umbara', 'homeworld_Vulpter', 'homeworld_Zolan',\n",
    "       'unit_type_at-at', 'unit_type_at-st', 'unit_type_resistance_soldier',\n",
    "       'unit_type_stormtrooper', 'unit_type_tie_fighter',\n",
    "       'unit_type_tie_silencer', 'unit_type_unknown', 'unit_type_x-wing']\n",
    "X = df2[feature_cols]\n",
    "y = df2.is_resistance\n",
    "\n",
    "X_train, X_test, y_train, y_test = train_test_split(X, y, test_size=.15)"
   ]
  },
  {
   "cell_type": "code",
   "execution_count": 37,
   "metadata": {},
   "outputs": [
    {
     "data": {
      "text/plain": [
       "homeworld_Alderaan              bool\n",
       "homeworld_Aleen Minor           bool\n",
       "homeworld_Bestine IV            bool\n",
       "homeworld_Cerea                 bool\n",
       "homeworld_Champala              bool\n",
       "homeworld_Chandrila             bool\n",
       "homeworld_Concord Dawn          bool\n",
       "homeworld_Corellia              bool\n",
       "homeworld_Dagobah               bool\n",
       "homeworld_Dathomir              bool\n",
       "homeworld_Dorin                 bool\n",
       "homeworld_Eriadu                bool\n",
       "homeworld_Glee Anselm           bool\n",
       "homeworld_Haruun Kal            bool\n",
       "homeworld_Iktotch               bool\n",
       "homeworld_Iridonia              bool\n",
       "homeworld_Kalee                 bool\n",
       "homeworld_Kashyyyk              bool\n",
       "homeworld_Malastare             bool\n",
       "homeworld_Mirial                bool\n",
       "homeworld_Mon Cala              bool\n",
       "homeworld_Muunilinst            bool\n",
       "homeworld_Naboo                 bool\n",
       "homeworld_Ojom                  bool\n",
       "homeworld_Quermia               bool\n",
       "homeworld_Rodia                 bool\n",
       "homeworld_Ryloth                bool\n",
       "homeworld_Serenno               bool\n",
       "homeworld_Shili                 bool\n",
       "homeworld_Skako                 bool\n",
       "homeworld_Socorro               bool\n",
       "homeworld_Stewjon               bool\n",
       "homeworld_Sullust               bool\n",
       "homeworld_Tatooine              bool\n",
       "homeworld_Tholoth               bool\n",
       "homeworld_Toydaria              bool\n",
       "homeworld_Trandosha             bool\n",
       "homeworld_Troiken               bool\n",
       "homeworld_Tund                  bool\n",
       "homeworld_Umbara                bool\n",
       "homeworld_Vulpter               bool\n",
       "homeworld_Zolan                 bool\n",
       "unit_type_at-at                 bool\n",
       "unit_type_at-st                 bool\n",
       "unit_type_resistance_soldier    bool\n",
       "unit_type_stormtrooper          bool\n",
       "unit_type_tie_fighter           bool\n",
       "unit_type_tie_silencer          bool\n",
       "unit_type_unknown               bool\n",
       "unit_type_x-wing                bool\n",
       "dtype: object"
      ]
     },
     "execution_count": 37,
     "metadata": {},
     "output_type": "execute_result"
    }
   ],
   "source": [
    "X_train.dtypes"
   ]
  },
  {
   "cell_type": "code",
   "execution_count": 38,
   "metadata": {},
   "outputs": [
    {
     "data": {
      "text/plain": [
       "array([0.53333333, 0.4       , 0.33333333, 0.66666667, 0.6       ,\n",
       "       0.66666667, 0.2       , 0.46666667, 0.4       , 0.6       ])"
      ]
     },
     "execution_count": 38,
     "metadata": {},
     "output_type": "execute_result"
    }
   ],
   "source": [
    "clf = DecisionTreeClassifier(random_state=0)\n",
    "\n",
    "clf.fit(X_train,y_train)\n",
    "\n",
    "cross_val_score(clf, X_test, y_test, cv=10)"
   ]
  },
  {
   "cell_type": "markdown",
   "metadata": {},
   "source": [
    "importances = clf.feature_importances_"
   ]
  },
  {
   "cell_type": "code",
   "execution_count": 40,
   "metadata": {},
   "outputs": [],
   "source": [
    "importances = clf.feature_importances_\n",
    "feature_importance = pd.DataFrame({'Feature': X_train.columns, 'Importance': importances})"
   ]
  },
  {
   "cell_type": "code",
   "execution_count": 46,
   "metadata": {},
   "outputs": [
    {
     "data": {
      "text/plain": [
       "Text(0.5, 1.0, 'Feature Importances')"
      ]
     },
     "execution_count": 46,
     "metadata": {},
     "output_type": "execute_result"
    },
    {
     "data": {
      "image/png": "[encoded data removed]",
      "text/plain": [
       "<Figure size 640x480 with 1 Axes>"
      ]
     },
     "metadata": {},
     "output_type": "display_data"
    }
   ],
   "source": [
    "feature_importance.sort_values(by=['Importance'])\n",
    "sns.barplot(x=\"Feature\", y=\"Importance\", data=feature_importance )\n",
    "plt.pyplot.xticks(rotation=90, ha='right')\n",
    "plt.pyplot.title(\"Feature Importances\")"
   ]
  }
 ],
 "metadata": {
  "kernelspec": {
   "display_name": "Python 3",
   "language": "python",
   "name": "python3"
  },
  "language_info": {
   "codemirror_mode": {
    "name": "ipython",
    "version": 3
   },
   "file_extension": ".py",
   "mimetype": "text/x-python",
   "name": "python",
   "nbconvert_exporter": "python",
   "pygments_lexer": "ipython3",
   "version": "3.12.3"
  }
 },
 "nbformat": 4,
 "nbformat_minor": 2
}
